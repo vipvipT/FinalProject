{
 "cells": [
  {
   "cell_type": "markdown",
   "metadata": {},
   "source": [
    "<center>\n",
    "    <img src=\"https://cf-courses-data.s3.us.cloud-object-storage.appdomain.cloud/IBMDeveloperSkillsNetwork-DS0105EN-SkillsNetwork/labs/Module2/images/SN_web_lightmode.png\" width=\"300\" alt=\"cognitiveclass.ai logo\">\n",
    "</center>\n"
   ]
  },
  {
   "cell_type": "markdown",
   "metadata": {},
   "source": [
    "# Hands-on Lab: Create your Jupyter Notebook\n"
   ]
  },
  {
   "cell_type": "markdown",
   "metadata": {},
   "source": [
    "#### Add your code below following the instructions given in the course\n"
   ]
  },
  {
   "cell_type": "markdown",
   "metadata": {},
   "source": [
    "# Final_Project.ipynb"
   ]
  },
  {
   "cell_type": "markdown",
   "metadata": {},
   "source": [
    "#### Introduction to the final project"
   ]
  },
  {
   "cell_type": "markdown",
   "metadata": {},
   "source": [
    "R\n",
    "***\n",
    "Python\n",
    "***\n",
    "SQL"
   ]
  },
  {
   "cell_type": "markdown",
   "metadata": {},
   "source": [
    "- Python\n",
    "    1. Pandas\n",
    "    2. NumPy\n",
    "    3. Matplotlib\n",
    "    4. Scikit-Learn\n",
    "    5. TensorFlow\n",
    "    6. Statsmodels\n",
    "    7. SciPy\n",
    "    8. NLTK\n",
    "    9. Dask\n",
    "    10. Ploty\n",
    "- R\n",
    "    1. dplyr\n",
    "    2. ggplot2\n",
    "    3. tidyr\n",
    "    4. caret\n",
    "    5. randomForest\n",
    "    6. xgboost\n",
    "    7. shiny\n",
    "    8. lubridate\n",
    "    9. forecast\n",
    "     10. text\n"
   ]
  },
  {
   "cell_type": "markdown",
   "metadata": {},
   "source": [
    "| Data Science Tools |\n",
    "|--------------------|\n",
    "| Jupyter Notebook |\n",
    "| JupyterLab |\n",
    "| RStudio |\n",
    "| Google Colab |\n",
    "| Apache Spark |\n",
    "| Apache Hadoop |\n",
    "| TensorFlow |\n"
   ]
  },
  {
   "cell_type": "markdown",
   "metadata": {},
   "source": [
    "2 + 3\n",
    "***\n",
    "10 - 4\n",
    "***\n",
    "7 * 5\n",
    "***\n",
    "15 / 3\n",
    "***\n",
    "2 ** 3\n",
    "***\n",
    "16 ** 0.5\n",
    "***\n",
    "(3 + 5) * 2\n",
    "***\n",
    "10 % 3\n",
    "***\n",
    "10 // 3\n",
    "***"
   ]
  },
  {
   "cell_type": "code",
   "execution_count": 6,
   "metadata": {},
   "outputs": [
    {
     "data": {
      "text/plain": [
       "(50, 52)"
      ]
     },
     "execution_count": 6,
     "metadata": {},
     "output_type": "execute_result"
    }
   ],
   "source": [
    "num1 = 10\n",
    "num2 = 5\n",
    "num3 = 2\n",
    "\n",
    "multiplication_result = num1 * num2\n",
    "\n",
    "final_result = multiplication_result + num3\n",
    "\n",
    "multiplication_result, final_result"
   ]
  },
  {
   "cell_type": "code",
   "execution_count": 7,
   "metadata": {},
   "outputs": [
    {
     "name": "stdout",
     "output_type": "stream",
     "text": [
      "125 minutes is equal to 2 hour(s) and 5 minute(s).\n"
     ]
    }
   ],
   "source": [
    "def convert_minutes_to_hours(minutes):\n",
    "    hours = minutes // 60\n",
    "    remaining_minutes = minutes % 60\n",
    "    return hours, remaining_minutes\n",
    "\n",
    "minutes_input = 125\n",
    "hours, remaining_minutes = convert_minutes_to_hours(minutes_input)\n",
    "\n",
    "print(f\"{minutes_input} minutes is equal to {hours} hour(s) and {remaining_minutes} minute(s).\")"
   ]
  },
  {
   "cell_type": "markdown",
   "metadata": {},
   "source": [
    "1. **Data Analysis**\n",
    "2. **Data Visualization**\n",
    "3. **Model Development**\n",
    "4. **Statistical Testing**\n",
    "5. **Report Generation**"
   ]
  },
  {
   "cell_type": "markdown",
   "metadata": {},
   "source": [
    "**Author:** Gabriel"
   ]
  }
 ],
 "metadata": {
  "kernelspec": {
   "display_name": "Python 3 (ipykernel)",
   "language": "python",
   "name": "python3"
  },
  "language_info": {
   "codemirror_mode": {
    "name": "ipython",
    "version": 3
   },
   "file_extension": ".py",
   "mimetype": "text/x-python",
   "name": "python",
   "nbconvert_exporter": "python",
   "pygments_lexer": "ipython3",
   "version": "3.11.9"
  },
  "prev_pub_hash": "9e1985db9844176462bd1d5863048c9f3d17404bbc6a648be9084b0c42b29347"
 },
 "nbformat": 4,
 "nbformat_minor": 4
}
